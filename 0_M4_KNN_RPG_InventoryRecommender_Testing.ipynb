{
 "cells": [
  {
   "cell_type": "markdown",
   "metadata": {},
   "source": [
    "Lesson 1: Basic Game Structure"
   ]
  },
  {
   "cell_type": "code",
   "execution_count": 10,
   "metadata": {},
   "outputs": [
    {
     "data": {
      "text/html": [
       "\n",
       "<style>\n",
       "    .inventory-grid {\n",
       "        display: grid;\n",
       "        grid-template-columns: repeat(5, 1fr);\n",
       "        gap: 10px;\n",
       "        padding: 20px;\n",
       "        background-color: #2b2b2b;\n",
       "    }\n",
       "    .item {\n",
       "        width: 60px;\n",
       "        height: 60px;\n",
       "        background-color: #3498DB;\n",
       "        border: 2px solid #2ECC71;\n",
       "        display: flex;\n",
       "        justify-content: center;\n",
       "        align-items: center;\n",
       "        font-weight: bold;\n",
       "        color: #FFFFFF;\n",
       "    }\n",
       "</style>\n",
       "<div class=\"inventory-grid\"><div class=\"item\">Sword</div><div class=\"item\">Shield</div><div class=\"item\">Potion</div><div class=\"item\">Gem</div><div class=\"item\">Coin</div></div>"
      ],
      "text/plain": [
       "<IPython.core.display.HTML object>"
      ]
     },
     "metadata": {},
     "output_type": "display_data"
    }
   ],
   "source": [
    "# Necessary imports\n",
    "import ipywidgets as widgets\n",
    "from IPython.display import display, HTML\n",
    "import random\n",
    "\n",
    "# Define color scheme\n",
    "COLOR_SCHEME = {\n",
    "    'background': '#2b2b2b',\n",
    "    'text': '#FFFFFF',\n",
    "    'primary': '#3498DB',\n",
    "    'secondary': '#E74C3C',\n",
    "    'accent': '#2ECC71',\n",
    "}\n",
    "\n",
    "# CSS styles\n",
    "styles = f\"\"\"\n",
    "<style>\n",
    "    .inventory-grid {{\n",
    "        display: grid;\n",
    "        grid-template-columns: repeat(5, 1fr);\n",
    "        gap: 10px;\n",
    "        padding: 20px;\n",
    "        background-color: {COLOR_SCHEME['background']};\n",
    "    }}\n",
    "    .item {{\n",
    "        width: 60px;\n",
    "        height: 60px;\n",
    "        background-color: {COLOR_SCHEME['primary']};\n",
    "        border: 2px solid {COLOR_SCHEME['accent']};\n",
    "        display: flex;\n",
    "        justify-content: center;\n",
    "        align-items: center;\n",
    "        font-weight: bold;\n",
    "        color: {COLOR_SCHEME['text']};\n",
    "    }}\n",
    "</style>\n",
    "\"\"\"\n",
    "\n",
    "# Function to create a single item\n",
    "def create_item(name):\n",
    "    return f'<div class=\"item\">{name}</div>'\n",
    "\n",
    "# Function to create the inventory grid\n",
    "def create_inventory_grid(items):\n",
    "    grid = '<div class=\"inventory-grid\">'\n",
    "    for item in items:\n",
    "        grid += create_item(item)\n",
    "    grid += '</div>'\n",
    "    return grid\n",
    "\n",
    "# Main game class\n",
    "class RPGInventory:\n",
    "    def __init__(self):\n",
    "        self.items = ['Sword', 'Shield', 'Potion', 'Gem', 'Coin']\n",
    "    \n",
    "    def display_inventory(self):\n",
    "        inventory_html = styles + create_inventory_grid(self.items)\n",
    "        display(HTML(inventory_html))\n",
    "\n",
    "# Create and display the game\n",
    "game = RPGInventory()\n",
    "game.display_inventory()"
   ]
  },
  {
   "cell_type": "markdown",
   "metadata": {},
   "source": [
    "Lesson 2: Interactive Inventory Management"
   ]
  },
  {
   "cell_type": "code",
   "execution_count": 11,
   "metadata": {},
   "outputs": [
    {
     "data": {
      "text/html": [
       "\n",
       "        \n",
       "<style>\n",
       "    #inventory-container {\n",
       "        width: 100%;\n",
       "        max-width: 600px;\n",
       "        margin: 0 auto;\n",
       "    }\n",
       "    .inventory-grid {\n",
       "        display: grid;\n",
       "        grid-template-columns: repeat(5, 1fr);\n",
       "        gap: 10px;\n",
       "        padding: 20px;\n",
       "        background-color: #2b2b2b;\n",
       "    }\n",
       "    .item {\n",
       "        width: 60px;\n",
       "        height: 60px;\n",
       "        background-color: #3498DB;\n",
       "        border: 2px solid #2ECC71;\n",
       "        display: flex;\n",
       "        justify-content: center;\n",
       "        align-items: center;\n",
       "        font-weight: bold;\n",
       "        color: #FFFFFF;\n",
       "        cursor: move;\n",
       "        position: relative;\n",
       "    }\n",
       "    .item:hover {\n",
       "        background-color: #9b9b9b;\n",
       "    }\n",
       "    .tooltip {\n",
       "        visibility: hidden;\n",
       "        width: 120px;\n",
       "        background-color: #E74C3C;\n",
       "        color: #FFFFFF;\n",
       "        text-align: center;\n",
       "        border-radius: 6px;\n",
       "        padding: 5px;\n",
       "        position: absolute;\n",
       "        z-index: 1;\n",
       "        bottom: 125%;\n",
       "        left: 50%;\n",
       "        margin-left: -60px;\n",
       "        opacity: 0;\n",
       "        transition: opacity 0.3s;\n",
       "    }\n",
       "    .item:hover .tooltip {\n",
       "        visibility: visible;\n",
       "        opacity: 1;\n",
       "    }\n",
       "    .control-panel {\n",
       "        margin-top: 20px;\n",
       "        display: flex;\n",
       "        justify-content: space-around;\n",
       "    }\n",
       "</style>\n",
       "\n",
       "        <div id=\"inventory-container\">\n",
       "            <div class=\"inventory-grid\">\n",
       "        <div class=\"item\" draggable=\"true\" ondragstart=\"drag(event)\" id=\"item-0\">\n",
       "            Sword\n",
       "            <span class=\"tooltip\">A sharp blade</span>\n",
       "        </div>\n",
       "        \n",
       "        <div class=\"item\" draggable=\"true\" ondragstart=\"drag(event)\" id=\"item-1\">\n",
       "            Shield\n",
       "            <span class=\"tooltip\">Sturdy protection</span>\n",
       "        </div>\n",
       "        \n",
       "        <div class=\"item\" draggable=\"true\" ondragstart=\"drag(event)\" id=\"item-2\">\n",
       "            Potion\n",
       "            <span class=\"tooltip\">Heals 50 HP</span>\n",
       "        </div>\n",
       "        \n",
       "        <div class=\"item\" draggable=\"true\" ondragstart=\"drag(event)\" id=\"item-3\">\n",
       "            Gem\n",
       "            <span class=\"tooltip\">Valuable treasure</span>\n",
       "        </div>\n",
       "        \n",
       "        <div class=\"item\" draggable=\"true\" ondragstart=\"drag(event)\" id=\"item-4\">\n",
       "            Coin\n",
       "            <span class=\"tooltip\">Currency</span>\n",
       "        </div>\n",
       "        <div class=\"item\" ondrop=\"drop(event)\" ondragover=\"allowDrop(event)\"></div><div class=\"item\" ondrop=\"drop(event)\" ondragover=\"allowDrop(event)\"></div><div class=\"item\" ondrop=\"drop(event)\" ondragover=\"allowDrop(event)\"></div><div class=\"item\" ondrop=\"drop(event)\" ondragover=\"allowDrop(event)\"></div><div class=\"item\" ondrop=\"drop(event)\" ondragover=\"allowDrop(event)\"></div></div>\n",
       "        </div>\n",
       "        "
      ],
      "text/plain": [
       "<IPython.core.display.HTML object>"
      ]
     },
     "metadata": {},
     "output_type": "display_data"
    },
    {
     "data": {
      "application/vnd.jupyter.widget-view+json": {
       "model_id": "d6fe978974f443b3b52bf6506b4acc1c",
       "version_major": 2,
       "version_minor": 0
      },
      "text/plain": [
       "HBox(children=(Button(description='Add Random Item', style=ButtonStyle()), Button(description='Remove Last Ite…"
      ]
     },
     "metadata": {},
     "output_type": "display_data"
    },
    {
     "data": {
      "application/javascript": "\nconsole.log(\"Setting up JS functions...\");\nfunction allowDrop(ev) {\n    ev.preventDefault();\n}\n\nfunction drag(ev) {\n    console.log(\"Drag started\", ev.target.id);\n    ev.dataTransfer.setData(\"text\", ev.target.id);\n}\n\nfunction drop(ev) {\n    ev.preventDefault();\n    var data = ev.dataTransfer.getData(\"text\");\n    var draggedElement = document.getElementById(data);\n    if (ev.target.classList.contains('item') && !ev.target.firstChild) {\n        ev.target.appendChild(draggedElement);\n    } else if (ev.target.classList.contains('inventory-grid')) {\n        ev.target.appendChild(draggedElement);\n    }\n}\n\nfunction updateInventory(inventoryData) {\n    console.log(\"Updating inventory in JS\", inventoryData);\n    var grid = document.querySelector('.inventory-grid');\n    grid.innerHTML = '';\n    inventoryData.forEach((item, index) => {\n        var itemDiv = document.createElement('div');\n        itemDiv.className = 'item';\n        itemDiv.draggable = true;\n        itemDiv.ondragstart = drag;\n        itemDiv.ondrop = drop;\n        itemDiv.ondragover = allowDrop;\n        itemDiv.id = 'item-' + index;\n        itemDiv.innerHTML = item.name + '<span class=\"tooltip\">' + item.description + '</span>';\n        grid.appendChild(itemDiv);\n    });\n    for (let i = inventoryData.length; i < 10; i++) {\n        var emptyDiv = document.createElement('div');\n        emptyDiv.className = 'item';\n        emptyDiv.ondrop = drop;\n        emptyDiv.ondragover = allowDrop;\n        grid.appendChild(emptyDiv);\n    }\n}\n\n// Attach event listeners to all items\ndocument.querySelectorAll('.item').forEach(item => {\n    item.ondragstart = drag;\n    item.ondrop = drop;\n    item.ondragover = allowDrop;\n});\n\n// Make sure updateInventory is available globally\nwindow.updateInventory = updateInventory;\n",
      "text/plain": [
       "<IPython.core.display.Javascript object>"
      ]
     },
     "metadata": {},
     "output_type": "display_data"
    },
    {
     "data": {
      "application/javascript": "\nconsole.log(\"Setting up JS functions...\");\nfunction allowDrop(ev) {\n    ev.preventDefault();\n}\n\nfunction drag(ev) {\n    console.log(\"Drag started\", ev.target.id);\n    ev.dataTransfer.setData(\"text\", ev.target.id);\n}\n\nfunction drop(ev) {\n    ev.preventDefault();\n    var data = ev.dataTransfer.getData(\"text\");\n    var draggedElement = document.getElementById(data);\n    if (ev.target.classList.contains('item') && !ev.target.firstChild) {\n        ev.target.appendChild(draggedElement);\n    } else if (ev.target.classList.contains('inventory-grid')) {\n        ev.target.appendChild(draggedElement);\n    }\n}\n\nfunction updateInventory(inventoryData) {\n    console.log(\"Updating inventory in JS\", inventoryData);\n    var grid = document.querySelector('.inventory-grid');\n    grid.innerHTML = '';\n    inventoryData.forEach((item, index) => {\n        var itemDiv = document.createElement('div');\n        itemDiv.className = 'item';\n        itemDiv.draggable = true;\n        itemDiv.ondragstart = drag;\n        itemDiv.ondrop = drop;\n        itemDiv.ondragover = allowDrop;\n        itemDiv.id = 'item-' + index;\n        itemDiv.innerHTML = item.name + '<span class=\"tooltip\">' + item.description + '</span>';\n        grid.appendChild(itemDiv);\n    });\n    for (let i = inventoryData.length; i < 10; i++) {\n        var emptyDiv = document.createElement('div');\n        emptyDiv.className = 'item';\n        emptyDiv.ondrop = drop;\n        emptyDiv.ondragover = allowDrop;\n        grid.appendChild(emptyDiv);\n    }\n}\n\n// Attach event listeners to all items\ndocument.querySelectorAll('.item').forEach(item => {\n    item.ondragstart = drag;\n    item.ondrop = drop;\n    item.ondragover = allowDrop;\n});\n\n// Make sure updateInventory is available globally\nwindow.updateInventory = updateInventory;\n",
      "text/plain": [
       "<IPython.core.display.Javascript object>"
      ]
     },
     "metadata": {},
     "output_type": "display_data"
    },
    {
     "data": {
      "application/javascript": "\n        console.log(\"Updating inventory...\");\n        console.log(\"Inventory data:\", [{\"name\": \"Sword\", \"description\": \"A sharp blade\"}, {\"name\": \"Shield\", \"description\": \"Sturdy protection\"}, {\"name\": \"Potion\", \"description\": \"Heals 50 HP\"}, {\"name\": \"Gem\", \"description\": \"Valuable treasure\"}, {\"name\": \"Coin\", \"description\": \"Currency\"}]);\n        updateInventory([{\"name\": \"Sword\", \"description\": \"A sharp blade\"}, {\"name\": \"Shield\", \"description\": \"Sturdy protection\"}, {\"name\": \"Potion\", \"description\": \"Heals 50 HP\"}, {\"name\": \"Gem\", \"description\": \"Valuable treasure\"}, {\"name\": \"Coin\", \"description\": \"Currency\"}]);\n        ",
      "text/plain": [
       "<IPython.core.display.Javascript object>"
      ]
     },
     "metadata": {},
     "output_type": "display_data"
    },
    {
     "name": "stdout",
     "output_type": "stream",
     "text": [
      "Items in inventory: ['Sword', 'Shield', 'Potion', 'Gem', 'Coin']\n"
     ]
    }
   ],
   "source": [
    "import ipywidgets as widgets\n",
    "from IPython.display import display, HTML, Javascript\n",
    "import random\n",
    "import json\n",
    "\n",
    "COLOR_SCHEME = {\n",
    "    'background': '#2b2b2b',\n",
    "    'text': '#FFFFFF',\n",
    "    'primary': '#3498DB',\n",
    "    'secondary': '#E74C3C',\n",
    "    'accent': '#2ECC71',\n",
    "    'hover': '#9b9b9b',\n",
    "}\n",
    "\n",
    "styles = f\"\"\"\n",
    "<style>\n",
    "    #inventory-container {{\n",
    "        width: 100%;\n",
    "        max-width: 600px;\n",
    "        margin: 0 auto;\n",
    "    }}\n",
    "    .inventory-grid {{\n",
    "        display: grid;\n",
    "        grid-template-columns: repeat(5, 1fr);\n",
    "        gap: 10px;\n",
    "        padding: 20px;\n",
    "        background-color: {COLOR_SCHEME['background']};\n",
    "    }}\n",
    "    .item {{\n",
    "        width: 60px;\n",
    "        height: 60px;\n",
    "        background-color: {COLOR_SCHEME['primary']};\n",
    "        border: 2px solid {COLOR_SCHEME['accent']};\n",
    "        display: flex;\n",
    "        justify-content: center;\n",
    "        align-items: center;\n",
    "        font-weight: bold;\n",
    "        color: {COLOR_SCHEME['text']};\n",
    "        cursor: move;\n",
    "        position: relative;\n",
    "    }}\n",
    "    .item:hover {{\n",
    "        background-color: {COLOR_SCHEME['hover']};\n",
    "    }}\n",
    "    .tooltip {{\n",
    "        visibility: hidden;\n",
    "        width: 120px;\n",
    "        background-color: {COLOR_SCHEME['secondary']};\n",
    "        color: {COLOR_SCHEME['text']};\n",
    "        text-align: center;\n",
    "        border-radius: 6px;\n",
    "        padding: 5px;\n",
    "        position: absolute;\n",
    "        z-index: 1;\n",
    "        bottom: 125%;\n",
    "        left: 50%;\n",
    "        margin-left: -60px;\n",
    "        opacity: 0;\n",
    "        transition: opacity 0.3s;\n",
    "    }}\n",
    "    .item:hover .tooltip {{\n",
    "        visibility: visible;\n",
    "        opacity: 1;\n",
    "    }}\n",
    "    .control-panel {{\n",
    "        margin-top: 20px;\n",
    "        display: flex;\n",
    "        justify-content: space-around;\n",
    "    }}\n",
    "</style>\n",
    "\"\"\"\n",
    "\n",
    "class Item:\n",
    "    def __init__(self, name, description):\n",
    "        self.name = name\n",
    "        self.description = description\n",
    "\n",
    "class RPGInventory:\n",
    "    def __init__(self):\n",
    "        self.items = [\n",
    "            Item(\"Sword\", \"A sharp blade\"),\n",
    "            Item(\"Shield\", \"Sturdy protection\"),\n",
    "            Item(\"Potion\", \"Heals 50 HP\"),\n",
    "            Item(\"Gem\", \"Valuable treasure\"),\n",
    "            Item(\"Coin\", \"Currency\")\n",
    "        ]\n",
    "        self.max_items = 10\n",
    "\n",
    "    def add_item(self, item):\n",
    "        if len(self.items) < self.max_items:\n",
    "            self.items.append(item)\n",
    "            return True\n",
    "        return False\n",
    "\n",
    "    def remove_item(self, index):\n",
    "        if 0 <= index < len(self.items):\n",
    "            del self.items[index]\n",
    "            return True\n",
    "        return False\n",
    "\n",
    "    def create_item_html(self, item, index):\n",
    "        return f\"\"\"\n",
    "        <div class=\"item\" draggable=\"true\" ondragstart=\"drag(event)\" id=\"item-{index}\">\n",
    "            {item.name}\n",
    "            <span class=\"tooltip\">{item.description}</span>\n",
    "        </div>\n",
    "        \"\"\"\n",
    "\n",
    "    def create_inventory_grid(self):\n",
    "        grid = '<div class=\"inventory-grid\">'\n",
    "        for i, item in enumerate(self.items):\n",
    "            grid += self.create_item_html(item, i)\n",
    "        for _ in range(len(self.items), self.max_items):\n",
    "            grid += '<div class=\"item\" ondrop=\"drop(event)\" ondragover=\"allowDrop(event)\"></div>'\n",
    "        grid += '</div>'\n",
    "        return grid\n",
    "\n",
    "    def display_inventory(self):\n",
    "        inventory_html = f\"\"\"\n",
    "        {styles}\n",
    "        <div id=\"inventory-container\">\n",
    "            {self.create_inventory_grid()}\n",
    "        </div>\n",
    "        \"\"\"\n",
    "        display(HTML(inventory_html))\n",
    "        \n",
    "        add_button = widgets.Button(description=\"Add Random Item\")\n",
    "        remove_button = widgets.Button(description=\"Remove Last Item\")\n",
    "        \n",
    "        add_button.on_click(self.add_random_item)\n",
    "        remove_button.on_click(self.remove_last_item)\n",
    "        \n",
    "        display(widgets.HBox([add_button, remove_button]))\n",
    "\n",
    "    def add_random_item(self, _):\n",
    "        new_item = Item(f\"Item {len(self.items) + 1}\", f\"Description for Item {len(self.items) + 1}\")\n",
    "        if self.add_item(new_item):\n",
    "            self.update_inventory()\n",
    "\n",
    "    def remove_last_item(self, _):\n",
    "        if self.remove_item(len(self.items) - 1):\n",
    "            self.update_inventory()\n",
    "\n",
    "    def update_inventory(self):\n",
    "        inventory_data = json.dumps([{'name': item.name, 'description': item.description} for item in self.items])\n",
    "        js_code = f\"\"\"\n",
    "        console.log(\"Updating inventory...\");\n",
    "        console.log(\"Inventory data:\", {inventory_data});\n",
    "        updateInventory({inventory_data});\n",
    "        \"\"\"\n",
    "        display(Javascript(js_code))\n",
    "\n",
    "# Create the game instance\n",
    "game = RPGInventory()\n",
    "\n",
    "# Display the inventory\n",
    "game.display_inventory()\n",
    "\n",
    "# Set up JavaScript functions\n",
    "js_code = \"\"\"\n",
    "console.log(\"Setting up JS functions...\");\n",
    "function allowDrop(ev) {\n",
    "    ev.preventDefault();\n",
    "}\n",
    "\n",
    "function drag(ev) {\n",
    "    console.log(\"Drag started\", ev.target.id);\n",
    "    ev.dataTransfer.setData(\"text\", ev.target.id);\n",
    "}\n",
    "\n",
    "function drop(ev) {\n",
    "    ev.preventDefault();\n",
    "    var data = ev.dataTransfer.getData(\"text\");\n",
    "    var draggedElement = document.getElementById(data);\n",
    "    if (ev.target.classList.contains('item') && !ev.target.firstChild) {\n",
    "        ev.target.appendChild(draggedElement);\n",
    "    } else if (ev.target.classList.contains('inventory-grid')) {\n",
    "        ev.target.appendChild(draggedElement);\n",
    "    }\n",
    "}\n",
    "\n",
    "function updateInventory(inventoryData) {\n",
    "    console.log(\"Updating inventory in JS\", inventoryData);\n",
    "    var grid = document.querySelector('.inventory-grid');\n",
    "    grid.innerHTML = '';\n",
    "    inventoryData.forEach((item, index) => {\n",
    "        var itemDiv = document.createElement('div');\n",
    "        itemDiv.className = 'item';\n",
    "        itemDiv.draggable = true;\n",
    "        itemDiv.ondragstart = drag;\n",
    "        itemDiv.ondrop = drop;\n",
    "        itemDiv.ondragover = allowDrop;\n",
    "        itemDiv.id = 'item-' + index;\n",
    "        itemDiv.innerHTML = item.name + '<span class=\"tooltip\">' + item.description + '</span>';\n",
    "        grid.appendChild(itemDiv);\n",
    "    });\n",
    "    for (let i = inventoryData.length; i < 10; i++) {\n",
    "        var emptyDiv = document.createElement('div');\n",
    "        emptyDiv.className = 'item';\n",
    "        emptyDiv.ondrop = drop;\n",
    "        emptyDiv.ondragover = allowDrop;\n",
    "        grid.appendChild(emptyDiv);\n",
    "    }\n",
    "}\n",
    "\n",
    "// Attach event listeners to all items\n",
    "document.querySelectorAll('.item').forEach(item => {\n",
    "    item.ondragstart = drag;\n",
    "    item.ondrop = drop;\n",
    "    item.ondragover = allowDrop;\n",
    "});\n",
    "\n",
    "// Make sure updateInventory is available globally\n",
    "window.updateInventory = updateInventory;\n",
    "\"\"\"\n",
    "\n",
    "display(Javascript(js_code))\n",
    "\n",
    "display(Javascript(js_code))\n",
    "\n",
    "\n",
    "# Initial inventory update to ensure everything is set up\n",
    "game.update_inventory()\n",
    "\n",
    "print(\"Items in inventory:\", [item.name for item in game.items])"
   ]
  },
  {
   "cell_type": "markdown",
   "metadata": {},
   "source": [
    "Lesson 3"
   ]
  },
  {
   "cell_type": "code",
   "execution_count": 8,
   "metadata": {},
   "outputs": [
    {
     "data": {
      "text/html": [
       "\n",
       "        \n",
       "<style>\n",
       "    #inventory-container {\n",
       "        width: 100%;\n",
       "        max-width: 600px;\n",
       "        margin: 0 auto;\n",
       "    }\n",
       "    .inventory-grid {\n",
       "        display: grid;\n",
       "        grid-template-columns: repeat(5, 1fr);\n",
       "        gap: 10px;\n",
       "        padding: 20px;\n",
       "        background-color: #2b2b2b;\n",
       "    }\n",
       "    .item {\n",
       "        width: 60px;\n",
       "        height: 60px;\n",
       "        background-color: #3498DB;\n",
       "        border: 2px solid #2ECC71;\n",
       "        display: flex;\n",
       "        justify-content: center;\n",
       "        align-items: center;\n",
       "        font-weight: bold;\n",
       "        color: #FFFFFF;\n",
       "        cursor: move;\n",
       "        position: relative;\n",
       "    }\n",
       "    .item:hover {\n",
       "        background-color: #9b9b9b;\n",
       "    }\n",
       "    .tooltip {\n",
       "        visibility: hidden;\n",
       "        width: 120px;\n",
       "        background-color: #E74C3C;\n",
       "        color: #FFFFFF;\n",
       "        text-align: center;\n",
       "        border-radius: 6px;\n",
       "        padding: 5px;\n",
       "        position: absolute;\n",
       "        z-index: 1;\n",
       "        bottom: 125%;\n",
       "        left: 50%;\n",
       "        margin-left: -60px;\n",
       "        opacity: 0;\n",
       "        transition: opacity 0.3s;\n",
       "    }\n",
       "    .item:hover .tooltip {\n",
       "        visibility: visible;\n",
       "        opacity: 1;\n",
       "    }\n",
       "    .control-panel {\n",
       "        margin-top: 20px;\n",
       "        display: flex;\n",
       "        justify-content: space-around;\n",
       "    }\n",
       "</style>\n",
       "\n",
       "        <div id=\"inventory-container\">\n",
       "            <div class=\"inventory-grid\">\n",
       "        <div class=\"item\" draggable=\"true\" ondragstart=\"drag(event)\" id=\"item-0\">\n",
       "            Sword\n",
       "            <span class=\"tooltip\">A sharp blade</span>\n",
       "        </div>\n",
       "        \n",
       "        <div class=\"item\" draggable=\"true\" ondragstart=\"drag(event)\" id=\"item-1\">\n",
       "            Shield\n",
       "            <span class=\"tooltip\">Sturdy protection</span>\n",
       "        </div>\n",
       "        \n",
       "        <div class=\"item\" draggable=\"true\" ondragstart=\"drag(event)\" id=\"item-2\">\n",
       "            Potion\n",
       "            <span class=\"tooltip\">Heals 50 HP</span>\n",
       "        </div>\n",
       "        \n",
       "        <div class=\"item\" draggable=\"true\" ondragstart=\"drag(event)\" id=\"item-3\">\n",
       "            Gem\n",
       "            <span class=\"tooltip\">Valuable treasure</span>\n",
       "        </div>\n",
       "        \n",
       "        <div class=\"item\" draggable=\"true\" ondragstart=\"drag(event)\" id=\"item-4\">\n",
       "            Coin\n",
       "            <span class=\"tooltip\">Currency</span>\n",
       "        </div>\n",
       "        <div class=\"item\" ondrop=\"drop(event)\" ondragover=\"allowDrop(event)\"></div><div class=\"item\" ondrop=\"drop(event)\" ondragover=\"allowDrop(event)\"></div><div class=\"item\" ondrop=\"drop(event)\" ondragover=\"allowDrop(event)\"></div><div class=\"item\" ondrop=\"drop(event)\" ondragover=\"allowDrop(event)\"></div><div class=\"item\" ondrop=\"drop(event)\" ondragover=\"allowDrop(event)\"></div></div>\n",
       "        </div>\n",
       "        "
      ],
      "text/plain": [
       "<IPython.core.display.HTML object>"
      ]
     },
     "metadata": {},
     "output_type": "display_data"
    },
    {
     "data": {
      "application/vnd.jupyter.widget-view+json": {
       "model_id": "bfa2c0c4ece54ec1b2777df50d204d59",
       "version_major": 2,
       "version_minor": 0
      },
      "text/plain": [
       "HBox(children=(Button(description='Add Random Item', style=ButtonStyle()), Button(description='Remove Last Ite…"
      ]
     },
     "metadata": {},
     "output_type": "display_data"
    },
    {
     "data": {
      "application/javascript": "\nconsole.log(\"Setting up JS functions...\");\nfunction allowDrop(ev) {\n    ev.preventDefault();\n}\n\nfunction drag(ev) {\n    console.log(\"Drag started\", ev.target.id);\n    ev.dataTransfer.setData(\"text\", ev.target.id);\n}\n\nfunction drop(ev) {\n    ev.preventDefault();\n    var data = ev.dataTransfer.getData(\"text\");\n    console.log(\"Drop event\", data);\n    if (ev.target.classList.contains('item') && !ev.target.firstChild) {\n        ev.target.appendChild(document.getElementById(data));\n    }\n}\n\nfunction updateInventory(inventoryData) {\n    console.log(\"Updating inventory in JS\", inventoryData);\n    var grid = document.querySelector('.inventory-grid');\n    grid.innerHTML = '';\n    inventoryData.forEach((item, index) => {\n        var itemDiv = document.createElement('div');\n        itemDiv.className = 'item';\n        itemDiv.draggable = true;\n        itemDiv.ondragstart = drag;\n        itemDiv.ondrop = drop;\n        itemDiv.ondragover = allowDrop;\n        itemDiv.id = 'item-' + index;\n        itemDiv.innerHTML = item.name + '<span class=\"tooltip\">' + item.description + '</span>';\n        grid.appendChild(itemDiv);\n    });\n    for (let i = inventoryData.length; i < 10; i++) {\n        var emptyDiv = document.createElement('div');\n        emptyDiv.className = 'item';\n        emptyDiv.ondrop = drop;\n        emptyDiv.ondragover = allowDrop;\n        grid.appendChild(emptyDiv);\n    }\n}\n\n// Attach event listeners to all items\ndocument.querySelectorAll('.item').forEach(item => {\n    item.ondragstart = drag;\n    item.ondrop = drop;\n    item.ondragover = allowDrop;\n});\n\n// Make sure updateInventory is available globally\nwindow.updateInventory = updateInventory;\n",
      "text/plain": [
       "<IPython.core.display.Javascript object>"
      ]
     },
     "metadata": {},
     "output_type": "display_data"
    },
    {
     "data": {
      "application/javascript": "\n        console.log(\"Updating inventory...\");\n        console.log(\"Inventory data:\", [{\"name\": \"Sword\", \"description\": \"A sharp blade\"}, {\"name\": \"Shield\", \"description\": \"Sturdy protection\"}, {\"name\": \"Potion\", \"description\": \"Heals 50 HP\"}, {\"name\": \"Gem\", \"description\": \"Valuable treasure\"}, {\"name\": \"Coin\", \"description\": \"Currency\"}]);\n        updateInventory([{\"name\": \"Sword\", \"description\": \"A sharp blade\"}, {\"name\": \"Shield\", \"description\": \"Sturdy protection\"}, {\"name\": \"Potion\", \"description\": \"Heals 50 HP\"}, {\"name\": \"Gem\", \"description\": \"Valuable treasure\"}, {\"name\": \"Coin\", \"description\": \"Currency\"}]);\n        ",
      "text/plain": [
       "<IPython.core.display.Javascript object>"
      ]
     },
     "metadata": {},
     "output_type": "display_data"
    },
    {
     "name": "stdout",
     "output_type": "stream",
     "text": [
      "Items in inventory: ['Sword', 'Shield', 'Potion', 'Gem', 'Coin']\n"
     ]
    },
    {
     "data": {
      "application/vnd.jupyter.widget-view+json": {
       "model_id": "a9c6900996d845a08b52179dfd624e87",
       "version_major": 2,
       "version_minor": 0
      },
      "text/plain": [
       "Text(value='', description='Name:')"
      ]
     },
     "metadata": {},
     "output_type": "display_data"
    },
    {
     "data": {
      "application/vnd.jupyter.widget-view+json": {
       "model_id": "136dddbb617548a1933cbe49307a6d58",
       "version_major": 2,
       "version_minor": 0
      },
      "text/plain": [
       "Dropdown(description='Class:', options=('Warrior', 'Mage', 'Rogue'), value='Warrior')"
      ]
     },
     "metadata": {},
     "output_type": "display_data"
    },
    {
     "data": {
      "application/vnd.jupyter.widget-view+json": {
       "model_id": "a2053eb3f84e4ba58c16690a7ea3ec2d",
       "version_major": 2,
       "version_minor": 0
      },
      "text/plain": [
       "Button(description='Create Character', style=ButtonStyle())"
      ]
     },
     "metadata": {},
     "output_type": "display_data"
    },
    {
     "data": {
      "application/vnd.jupyter.widget-view+json": {
       "model_id": "cc26226301e84b25be98e79c7fe2f5da",
       "version_major": 2,
       "version_minor": 0
      },
      "text/plain": [
       "Output()"
      ]
     },
     "metadata": {},
     "output_type": "display_data"
    },
    {
     "data": {
      "application/vnd.plotly.v1+json": {
       "config": {
        "plotlyServerURL": "https://plot.ly"
       },
       "data": [
        {
         "fill": "toself",
         "r": [
          20,
          6,
          18,
          20
         ],
         "theta": [
          "Strength",
          "Intelligence",
          "Dexterity",
          "Strength"
         ],
         "type": "scatterpolar"
        }
       ],
       "layout": {
        "polar": {
         "radialaxis": {
          "range": [
           0,
           20
          ],
          "visible": true
         }
        },
        "showlegend": false,
        "template": {
         "data": {
          "bar": [
           {
            "error_x": {
             "color": "#2a3f5f"
            },
            "error_y": {
             "color": "#2a3f5f"
            },
            "marker": {
             "line": {
              "color": "#E5ECF6",
              "width": 0.5
             },
             "pattern": {
              "fillmode": "overlay",
              "size": 10,
              "solidity": 0.2
             }
            },
            "type": "bar"
           }
          ],
          "barpolar": [
           {
            "marker": {
             "line": {
              "color": "#E5ECF6",
              "width": 0.5
             },
             "pattern": {
              "fillmode": "overlay",
              "size": 10,
              "solidity": 0.2
             }
            },
            "type": "barpolar"
           }
          ],
          "carpet": [
           {
            "aaxis": {
             "endlinecolor": "#2a3f5f",
             "gridcolor": "white",
             "linecolor": "white",
             "minorgridcolor": "white",
             "startlinecolor": "#2a3f5f"
            },
            "baxis": {
             "endlinecolor": "#2a3f5f",
             "gridcolor": "white",
             "linecolor": "white",
             "minorgridcolor": "white",
             "startlinecolor": "#2a3f5f"
            },
            "type": "carpet"
           }
          ],
          "choropleth": [
           {
            "colorbar": {
             "outlinewidth": 0,
             "ticks": ""
            },
            "type": "choropleth"
           }
          ],
          "contour": [
           {
            "colorbar": {
             "outlinewidth": 0,
             "ticks": ""
            },
            "colorscale": [
             [
              0,
              "#0d0887"
             ],
             [
              0.1111111111111111,
              "#46039f"
             ],
             [
              0.2222222222222222,
              "#7201a8"
             ],
             [
              0.3333333333333333,
              "#9c179e"
             ],
             [
              0.4444444444444444,
              "#bd3786"
             ],
             [
              0.5555555555555556,
              "#d8576b"
             ],
             [
              0.6666666666666666,
              "#ed7953"
             ],
             [
              0.7777777777777778,
              "#fb9f3a"
             ],
             [
              0.8888888888888888,
              "#fdca26"
             ],
             [
              1,
              "#f0f921"
             ]
            ],
            "type": "contour"
           }
          ],
          "contourcarpet": [
           {
            "colorbar": {
             "outlinewidth": 0,
             "ticks": ""
            },
            "type": "contourcarpet"
           }
          ],
          "heatmap": [
           {
            "colorbar": {
             "outlinewidth": 0,
             "ticks": ""
            },
            "colorscale": [
             [
              0,
              "#0d0887"
             ],
             [
              0.1111111111111111,
              "#46039f"
             ],
             [
              0.2222222222222222,
              "#7201a8"
             ],
             [
              0.3333333333333333,
              "#9c179e"
             ],
             [
              0.4444444444444444,
              "#bd3786"
             ],
             [
              0.5555555555555556,
              "#d8576b"
             ],
             [
              0.6666666666666666,
              "#ed7953"
             ],
             [
              0.7777777777777778,
              "#fb9f3a"
             ],
             [
              0.8888888888888888,
              "#fdca26"
             ],
             [
              1,
              "#f0f921"
             ]
            ],
            "type": "heatmap"
           }
          ],
          "heatmapgl": [
           {
            "colorbar": {
             "outlinewidth": 0,
             "ticks": ""
            },
            "colorscale": [
             [
              0,
              "#0d0887"
             ],
             [
              0.1111111111111111,
              "#46039f"
             ],
             [
              0.2222222222222222,
              "#7201a8"
             ],
             [
              0.3333333333333333,
              "#9c179e"
             ],
             [
              0.4444444444444444,
              "#bd3786"
             ],
             [
              0.5555555555555556,
              "#d8576b"
             ],
             [
              0.6666666666666666,
              "#ed7953"
             ],
             [
              0.7777777777777778,
              "#fb9f3a"
             ],
             [
              0.8888888888888888,
              "#fdca26"
             ],
             [
              1,
              "#f0f921"
             ]
            ],
            "type": "heatmapgl"
           }
          ],
          "histogram": [
           {
            "marker": {
             "pattern": {
              "fillmode": "overlay",
              "size": 10,
              "solidity": 0.2
             }
            },
            "type": "histogram"
           }
          ],
          "histogram2d": [
           {
            "colorbar": {
             "outlinewidth": 0,
             "ticks": ""
            },
            "colorscale": [
             [
              0,
              "#0d0887"
             ],
             [
              0.1111111111111111,
              "#46039f"
             ],
             [
              0.2222222222222222,
              "#7201a8"
             ],
             [
              0.3333333333333333,
              "#9c179e"
             ],
             [
              0.4444444444444444,
              "#bd3786"
             ],
             [
              0.5555555555555556,
              "#d8576b"
             ],
             [
              0.6666666666666666,
              "#ed7953"
             ],
             [
              0.7777777777777778,
              "#fb9f3a"
             ],
             [
              0.8888888888888888,
              "#fdca26"
             ],
             [
              1,
              "#f0f921"
             ]
            ],
            "type": "histogram2d"
           }
          ],
          "histogram2dcontour": [
           {
            "colorbar": {
             "outlinewidth": 0,
             "ticks": ""
            },
            "colorscale": [
             [
              0,
              "#0d0887"
             ],
             [
              0.1111111111111111,
              "#46039f"
             ],
             [
              0.2222222222222222,
              "#7201a8"
             ],
             [
              0.3333333333333333,
              "#9c179e"
             ],
             [
              0.4444444444444444,
              "#bd3786"
             ],
             [
              0.5555555555555556,
              "#d8576b"
             ],
             [
              0.6666666666666666,
              "#ed7953"
             ],
             [
              0.7777777777777778,
              "#fb9f3a"
             ],
             [
              0.8888888888888888,
              "#fdca26"
             ],
             [
              1,
              "#f0f921"
             ]
            ],
            "type": "histogram2dcontour"
           }
          ],
          "mesh3d": [
           {
            "colorbar": {
             "outlinewidth": 0,
             "ticks": ""
            },
            "type": "mesh3d"
           }
          ],
          "parcoords": [
           {
            "line": {
             "colorbar": {
              "outlinewidth": 0,
              "ticks": ""
             }
            },
            "type": "parcoords"
           }
          ],
          "pie": [
           {
            "automargin": true,
            "type": "pie"
           }
          ],
          "scatter": [
           {
            "fillpattern": {
             "fillmode": "overlay",
             "size": 10,
             "solidity": 0.2
            },
            "type": "scatter"
           }
          ],
          "scatter3d": [
           {
            "line": {
             "colorbar": {
              "outlinewidth": 0,
              "ticks": ""
             }
            },
            "marker": {
             "colorbar": {
              "outlinewidth": 0,
              "ticks": ""
             }
            },
            "type": "scatter3d"
           }
          ],
          "scattercarpet": [
           {
            "marker": {
             "colorbar": {
              "outlinewidth": 0,
              "ticks": ""
             }
            },
            "type": "scattercarpet"
           }
          ],
          "scattergeo": [
           {
            "marker": {
             "colorbar": {
              "outlinewidth": 0,
              "ticks": ""
             }
            },
            "type": "scattergeo"
           }
          ],
          "scattergl": [
           {
            "marker": {
             "colorbar": {
              "outlinewidth": 0,
              "ticks": ""
             }
            },
            "type": "scattergl"
           }
          ],
          "scattermapbox": [
           {
            "marker": {
             "colorbar": {
              "outlinewidth": 0,
              "ticks": ""
             }
            },
            "type": "scattermapbox"
           }
          ],
          "scatterpolar": [
           {
            "marker": {
             "colorbar": {
              "outlinewidth": 0,
              "ticks": ""
             }
            },
            "type": "scatterpolar"
           }
          ],
          "scatterpolargl": [
           {
            "marker": {
             "colorbar": {
              "outlinewidth": 0,
              "ticks": ""
             }
            },
            "type": "scatterpolargl"
           }
          ],
          "scatterternary": [
           {
            "marker": {
             "colorbar": {
              "outlinewidth": 0,
              "ticks": ""
             }
            },
            "type": "scatterternary"
           }
          ],
          "surface": [
           {
            "colorbar": {
             "outlinewidth": 0,
             "ticks": ""
            },
            "colorscale": [
             [
              0,
              "#0d0887"
             ],
             [
              0.1111111111111111,
              "#46039f"
             ],
             [
              0.2222222222222222,
              "#7201a8"
             ],
             [
              0.3333333333333333,
              "#9c179e"
             ],
             [
              0.4444444444444444,
              "#bd3786"
             ],
             [
              0.5555555555555556,
              "#d8576b"
             ],
             [
              0.6666666666666666,
              "#ed7953"
             ],
             [
              0.7777777777777778,
              "#fb9f3a"
             ],
             [
              0.8888888888888888,
              "#fdca26"
             ],
             [
              1,
              "#f0f921"
             ]
            ],
            "type": "surface"
           }
          ],
          "table": [
           {
            "cells": {
             "fill": {
              "color": "#EBF0F8"
             },
             "line": {
              "color": "white"
             }
            },
            "header": {
             "fill": {
              "color": "#C8D4E3"
             },
             "line": {
              "color": "white"
             }
            },
            "type": "table"
           }
          ]
         },
         "layout": {
          "annotationdefaults": {
           "arrowcolor": "#2a3f5f",
           "arrowhead": 0,
           "arrowwidth": 1
          },
          "autotypenumbers": "strict",
          "coloraxis": {
           "colorbar": {
            "outlinewidth": 0,
            "ticks": ""
           }
          },
          "colorscale": {
           "diverging": [
            [
             0,
             "#8e0152"
            ],
            [
             0.1,
             "#c51b7d"
            ],
            [
             0.2,
             "#de77ae"
            ],
            [
             0.3,
             "#f1b6da"
            ],
            [
             0.4,
             "#fde0ef"
            ],
            [
             0.5,
             "#f7f7f7"
            ],
            [
             0.6,
             "#e6f5d0"
            ],
            [
             0.7,
             "#b8e186"
            ],
            [
             0.8,
             "#7fbc41"
            ],
            [
             0.9,
             "#4d9221"
            ],
            [
             1,
             "#276419"
            ]
           ],
           "sequential": [
            [
             0,
             "#0d0887"
            ],
            [
             0.1111111111111111,
             "#46039f"
            ],
            [
             0.2222222222222222,
             "#7201a8"
            ],
            [
             0.3333333333333333,
             "#9c179e"
            ],
            [
             0.4444444444444444,
             "#bd3786"
            ],
            [
             0.5555555555555556,
             "#d8576b"
            ],
            [
             0.6666666666666666,
             "#ed7953"
            ],
            [
             0.7777777777777778,
             "#fb9f3a"
            ],
            [
             0.8888888888888888,
             "#fdca26"
            ],
            [
             1,
             "#f0f921"
            ]
           ],
           "sequentialminus": [
            [
             0,
             "#0d0887"
            ],
            [
             0.1111111111111111,
             "#46039f"
            ],
            [
             0.2222222222222222,
             "#7201a8"
            ],
            [
             0.3333333333333333,
             "#9c179e"
            ],
            [
             0.4444444444444444,
             "#bd3786"
            ],
            [
             0.5555555555555556,
             "#d8576b"
            ],
            [
             0.6666666666666666,
             "#ed7953"
            ],
            [
             0.7777777777777778,
             "#fb9f3a"
            ],
            [
             0.8888888888888888,
             "#fdca26"
            ],
            [
             1,
             "#f0f921"
            ]
           ]
          },
          "colorway": [
           "#636efa",
           "#EF553B",
           "#00cc96",
           "#ab63fa",
           "#FFA15A",
           "#19d3f3",
           "#FF6692",
           "#B6E880",
           "#FF97FF",
           "#FECB52"
          ],
          "font": {
           "color": "#2a3f5f"
          },
          "geo": {
           "bgcolor": "white",
           "lakecolor": "white",
           "landcolor": "#E5ECF6",
           "showlakes": true,
           "showland": true,
           "subunitcolor": "white"
          },
          "hoverlabel": {
           "align": "left"
          },
          "hovermode": "closest",
          "mapbox": {
           "style": "light"
          },
          "paper_bgcolor": "white",
          "plot_bgcolor": "#E5ECF6",
          "polar": {
           "angularaxis": {
            "gridcolor": "white",
            "linecolor": "white",
            "ticks": ""
           },
           "bgcolor": "#E5ECF6",
           "radialaxis": {
            "gridcolor": "white",
            "linecolor": "white",
            "ticks": ""
           }
          },
          "scene": {
           "xaxis": {
            "backgroundcolor": "#E5ECF6",
            "gridcolor": "white",
            "gridwidth": 2,
            "linecolor": "white",
            "showbackground": true,
            "ticks": "",
            "zerolinecolor": "white"
           },
           "yaxis": {
            "backgroundcolor": "#E5ECF6",
            "gridcolor": "white",
            "gridwidth": 2,
            "linecolor": "white",
            "showbackground": true,
            "ticks": "",
            "zerolinecolor": "white"
           },
           "zaxis": {
            "backgroundcolor": "#E5ECF6",
            "gridcolor": "white",
            "gridwidth": 2,
            "linecolor": "white",
            "showbackground": true,
            "ticks": "",
            "zerolinecolor": "white"
           }
          },
          "shapedefaults": {
           "line": {
            "color": "#2a3f5f"
           }
          },
          "ternary": {
           "aaxis": {
            "gridcolor": "white",
            "linecolor": "white",
            "ticks": ""
           },
           "baxis": {
            "gridcolor": "white",
            "linecolor": "white",
            "ticks": ""
           },
           "bgcolor": "#E5ECF6",
           "caxis": {
            "gridcolor": "white",
            "linecolor": "white",
            "ticks": ""
           }
          },
          "title": {
           "x": 0.05
          },
          "xaxis": {
           "automargin": true,
           "gridcolor": "white",
           "linecolor": "white",
           "ticks": "",
           "title": {
            "standoff": 15
           },
           "zerolinecolor": "white",
           "zerolinewidth": 2
          },
          "yaxis": {
           "automargin": true,
           "gridcolor": "white",
           "linecolor": "white",
           "ticks": "",
           "title": {
            "standoff": 15
           },
           "zerolinecolor": "white",
           "zerolinewidth": 2
          }
         }
        }
       }
      }
     },
     "metadata": {},
     "output_type": "display_data"
    }
   ],
   "source": [
    "import ipywidgets as widgets\n",
    "from IPython.display import display, HTML, Javascript\n",
    "import random\n",
    "import json\n",
    "import plotly.graph_objs as go\n",
    "\n",
    "COLOR_SCHEME = {\n",
    "    'background': '#2b2b2b',\n",
    "    'text': '#FFFFFF',\n",
    "    'primary': '#3498DB',\n",
    "    'secondary': '#E74C3C',\n",
    "    'accent': '#2ECC71',\n",
    "    'hover': '#9b9b9b',\n",
    "}\n",
    "\n",
    "styles = f\"\"\"\n",
    "<style>\n",
    "    #inventory-container {{\n",
    "        width: 100%;\n",
    "        max-width: 600px;\n",
    "        margin: 0 auto;\n",
    "    }}\n",
    "    .inventory-grid {{\n",
    "        display: grid;\n",
    "        grid-template-columns: repeat(5, 1fr);\n",
    "        gap: 10px;\n",
    "        padding: 20px;\n",
    "        background-color: {COLOR_SCHEME['background']};\n",
    "    }}\n",
    "    .item {{\n",
    "        width: 60px;\n",
    "        height: 60px;\n",
    "        background-color: {COLOR_SCHEME['primary']};\n",
    "        border: 2px solid {COLOR_SCHEME['accent']};\n",
    "        display: flex;\n",
    "        justify-content: center;\n",
    "        align-items: center;\n",
    "        font-weight: bold;\n",
    "        color: {COLOR_SCHEME['text']};\n",
    "        cursor: move;\n",
    "        position: relative;\n",
    "    }}\n",
    "    .item:hover {{\n",
    "        background-color: {COLOR_SCHEME['hover']};\n",
    "    }}\n",
    "    .tooltip {{\n",
    "        visibility: hidden;\n",
    "        width: 120px;\n",
    "        background-color: {COLOR_SCHEME['secondary']};\n",
    "        color: {COLOR_SCHEME['text']};\n",
    "        text-align: center;\n",
    "        border-radius: 6px;\n",
    "        padding: 5px;\n",
    "        position: absolute;\n",
    "        z-index: 1;\n",
    "        bottom: 125%;\n",
    "        left: 50%;\n",
    "        margin-left: -60px;\n",
    "        opacity: 0;\n",
    "        transition: opacity 0.3s;\n",
    "    }}\n",
    "    .item:hover .tooltip {{\n",
    "        visibility: visible;\n",
    "        opacity: 1;\n",
    "    }}\n",
    "    .control-panel {{\n",
    "        margin-top: 20px;\n",
    "        display: flex;\n",
    "        justify-content: space-around;\n",
    "    }}\n",
    "</style>\n",
    "\"\"\"\n",
    "\n",
    "class Item:\n",
    "    def __init__(self, name, description):\n",
    "        self.name = name\n",
    "        self.description = description\n",
    "\n",
    "class RPGInventory:\n",
    "    def __init__(self):\n",
    "        self.items = [\n",
    "            Item(\"Sword\", \"A sharp blade\"),\n",
    "            Item(\"Shield\", \"Sturdy protection\"),\n",
    "            Item(\"Potion\", \"Heals 50 HP\"),\n",
    "            Item(\"Gem\", \"Valuable treasure\"),\n",
    "            Item(\"Coin\", \"Currency\")\n",
    "        ]\n",
    "        self.max_items = 10\n",
    "\n",
    "    def add_item(self, item):\n",
    "        if len(self.items) < self.max_items:\n",
    "            self.items.append(item)\n",
    "            return True\n",
    "        return False\n",
    "\n",
    "    def remove_item(self, index):\n",
    "        if 0 <= index < len(self.items):\n",
    "            del self.items[index]\n",
    "            return True\n",
    "        return False\n",
    "\n",
    "    def create_item_html(self, item, index):\n",
    "        return f\"\"\"\n",
    "        <div class=\"item\" draggable=\"true\" ondragstart=\"drag(event)\" id=\"item-{index}\">\n",
    "            {item.name}\n",
    "            <span class=\"tooltip\">{item.description}</span>\n",
    "        </div>\n",
    "        \"\"\"\n",
    "\n",
    "    def create_inventory_grid(self):\n",
    "        grid = '<div class=\"inventory-grid\">'\n",
    "        for i, item in enumerate(self.items):\n",
    "            grid += self.create_item_html(item, i)\n",
    "        for _ in range(len(self.items), self.max_items):\n",
    "            grid += '<div class=\"item\" ondrop=\"drop(event)\" ondragover=\"allowDrop(event)\"></div>'\n",
    "        grid += '</div>'\n",
    "        return grid\n",
    "\n",
    "    def display_inventory(self):\n",
    "        inventory_html = f\"\"\"\n",
    "        {styles}\n",
    "        <div id=\"inventory-container\">\n",
    "            {self.create_inventory_grid()}\n",
    "        </div>\n",
    "        \"\"\"\n",
    "        display(HTML(inventory_html))\n",
    "        \n",
    "        add_button = widgets.Button(description=\"Add Random Item\")\n",
    "        remove_button = widgets.Button(description=\"Remove Last Item\")\n",
    "        \n",
    "        add_button.on_click(self.add_random_item)\n",
    "        remove_button.on_click(self.remove_last_item)\n",
    "        \n",
    "        display(widgets.HBox([add_button, remove_button]))\n",
    "\n",
    "    def add_random_item(self, _):\n",
    "        new_item = Item(f\"Item {len(self.items) + 1}\", f\"Description for Item {len(self.items) + 1}\")\n",
    "        if self.add_item(new_item):\n",
    "            self.update_inventory()\n",
    "\n",
    "    def remove_last_item(self, _):\n",
    "        if self.remove_item(len(self.items) - 1):\n",
    "            self.update_inventory()\n",
    "\n",
    "    def update_inventory(self):\n",
    "        inventory_data = json.dumps([{'name': item.name, 'description': item.description} for item in self.items])\n",
    "        js_code = f\"\"\"\n",
    "        console.log(\"Updating inventory...\");\n",
    "        console.log(\"Inventory data:\", {inventory_data});\n",
    "        updateInventory({inventory_data});\n",
    "        \"\"\"\n",
    "        display(Javascript(js_code))\n",
    "\n",
    "# New Character System\n",
    "class Character:\n",
    "    def __init__(self, name, char_class, level=1):\n",
    "        self.name = name\n",
    "        self.char_class = char_class\n",
    "        self.level = level\n",
    "        self.strength = random.randint(1, 20)\n",
    "        self.intelligence = random.randint(1, 20)\n",
    "        self.dexterity = random.randint(1, 20)\n",
    "\n",
    "    def to_dict(self):\n",
    "        return {\n",
    "            'name': self.name,\n",
    "            'class': self.char_class,\n",
    "            'level': self.level,\n",
    "            'strength': self.strength,\n",
    "            'intelligence': self.intelligence,\n",
    "            'dexterity': self.dexterity\n",
    "        }\n",
    "\n",
    "class CharacterCreator:\n",
    "    def __init__(self):\n",
    "        self.name_input = widgets.Text(description='Name:')\n",
    "        self.class_dropdown = widgets.Dropdown(\n",
    "            options=['Warrior', 'Mage', 'Rogue'],\n",
    "            description='Class:'\n",
    "        )\n",
    "        self.create_button = widgets.Button(description='Create Character')\n",
    "        self.create_button.on_click(self.create_character)\n",
    "        self.output = widgets.Output()\n",
    "\n",
    "    def display(self):\n",
    "        display(self.name_input, self.class_dropdown, self.create_button, self.output)\n",
    "\n",
    "    def create_character(self, _):\n",
    "        with self.output:\n",
    "            self.output.clear_output()\n",
    "            name = self.name_input.value\n",
    "            char_class = self.class_dropdown.value\n",
    "            character = Character(name, char_class)\n",
    "            print(f\"Character created: {character.name} the {character.char_class}\")\n",
    "            self.display_character_stats(character)\n",
    "\n",
    "    def display_character_stats(self, character):\n",
    "        stats = ['Strength', 'Intelligence', 'Dexterity']\n",
    "        values = [character.strength, character.intelligence, character.dexterity]\n",
    "\n",
    "        fig = go.Figure(data=go.Scatterpolar(\n",
    "            r=values + values[:1],\n",
    "            theta=stats + stats[:1],\n",
    "            fill='toself'\n",
    "        ))\n",
    "\n",
    "        fig.update_layout(\n",
    "            polar=dict(\n",
    "                radialaxis=dict(visible=True, range=[0, 20])\n",
    "            ),\n",
    "            showlegend=False\n",
    "        )\n",
    "\n",
    "        fig.show()\n",
    "\n",
    "# Create the game instance\n",
    "game = RPGInventory()\n",
    "\n",
    "# Display the inventory\n",
    "game.display_inventory()\n",
    "\n",
    "# Set up JavaScript functions\n",
    "js_code = \"\"\"\n",
    "console.log(\"Setting up JS functions...\");\n",
    "function allowDrop(ev) {\n",
    "    ev.preventDefault();\n",
    "}\n",
    "\n",
    "function drag(ev) {\n",
    "    console.log(\"Drag started\", ev.target.id);\n",
    "    ev.dataTransfer.setData(\"text\", ev.target.id);\n",
    "}\n",
    "\n",
    "function drop(ev) {\n",
    "    ev.preventDefault();\n",
    "    var data = ev.dataTransfer.getData(\"text\");\n",
    "    console.log(\"Drop event\", data);\n",
    "    if (ev.target.classList.contains('item') && !ev.target.firstChild) {\n",
    "        ev.target.appendChild(document.getElementById(data));\n",
    "    }\n",
    "}\n",
    "\n",
    "function updateInventory(inventoryData) {\n",
    "    console.log(\"Updating inventory in JS\", inventoryData);\n",
    "    var grid = document.querySelector('.inventory-grid');\n",
    "    grid.innerHTML = '';\n",
    "    inventoryData.forEach((item, index) => {\n",
    "        var itemDiv = document.createElement('div');\n",
    "        itemDiv.className = 'item';\n",
    "        itemDiv.draggable = true;\n",
    "        itemDiv.ondragstart = drag;\n",
    "        itemDiv.ondrop = drop;\n",
    "        itemDiv.ondragover = allowDrop;\n",
    "        itemDiv.id = 'item-' + index;\n",
    "        itemDiv.innerHTML = item.name + '<span class=\"tooltip\">' + item.description + '</span>';\n",
    "        grid.appendChild(itemDiv);\n",
    "    });\n",
    "    for (let i = inventoryData.length; i < 10; i++) {\n",
    "        var emptyDiv = document.createElement('div');\n",
    "        emptyDiv.className = 'item';\n",
    "        emptyDiv.ondrop = drop;\n",
    "        emptyDiv.ondragover = allowDrop;\n",
    "        grid.appendChild(emptyDiv);\n",
    "    }\n",
    "}\n",
    "\n",
    "// Attach event listeners to all items\n",
    "document.querySelectorAll('.item').forEach(item => {\n",
    "    item.ondragstart = drag;\n",
    "    item.ondrop = drop;\n",
    "    item.ondragover = allowDrop;\n",
    "});\n",
    "\n",
    "// Make sure updateInventory is available globally\n",
    "window.updateInventory = updateInventory;\n",
    "\"\"\"\n",
    "\n",
    "display(Javascript(js_code))\n",
    "\n",
    "# Initial inventory update to ensure everything is set up\n",
    "game.update_inventory()\n",
    "\n",
    "print(\"Items in inventory:\", [item.name for item in game.items])\n",
    "\n",
    "# Create and display the character creator\n",
    "creator = CharacterCreator()\n",
    "creator.display()"
   ]
  },
  {
   "cell_type": "code",
   "execution_count": 9,
   "metadata": {},
   "outputs": [
    {
     "data": {
      "text/html": [
       "\n",
       "        \n",
       "<style>\n",
       "    #inventory-container {\n",
       "        width: 100%;\n",
       "        max-width: 600px;\n",
       "        margin: 0 auto;\n",
       "    }\n",
       "    .inventory-grid {\n",
       "        display: grid;\n",
       "        grid-template-columns: repeat(5, 1fr);\n",
       "        gap: 10px;\n",
       "        padding: 20px;\n",
       "        background-color: #2b2b2b;\n",
       "    }\n",
       "    .item {\n",
       "        width: 60px;\n",
       "        height: 60px;\n",
       "        background-color: #3498DB;\n",
       "        border: 2px solid #2ECC71;\n",
       "        display: flex;\n",
       "        justify-content: center;\n",
       "        align-items: center;\n",
       "        font-weight: bold;\n",
       "        color: #FFFFFF;\n",
       "        cursor: move;\n",
       "        position: relative;\n",
       "    }\n",
       "    .item:hover {\n",
       "        background-color: #9b9b9b;\n",
       "    }\n",
       "    .tooltip {\n",
       "        visibility: hidden;\n",
       "        width: 120px;\n",
       "        background-color: #E74C3C;\n",
       "        color: #FFFFFF;\n",
       "        text-align: center;\n",
       "        border-radius: 6px;\n",
       "        padding: 5px;\n",
       "        position: absolute;\n",
       "        z-index: 1;\n",
       "        bottom: 125%;\n",
       "        left: 50%;\n",
       "        margin-left: -60px;\n",
       "        opacity: 0;\n",
       "        transition: opacity 0.3s;\n",
       "    }\n",
       "    .item:hover .tooltip {\n",
       "        visibility: visible;\n",
       "        opacity: 1;\n",
       "    }\n",
       "    .control-panel {\n",
       "        margin-top: 20px;\n",
       "        display: flex;\n",
       "        justify-content: space-around;\n",
       "    }\n",
       "    .character-stats {\n",
       "        display: flex;\n",
       "        align-items: center;\n",
       "        margin-top: 20px;\n",
       "        background-color: #2b2b2b;\n",
       "        padding: 20px;\n",
       "        border-radius: 8px;\n",
       "        color: #FFFFFF;\n",
       "    }\n",
       "    .character-image {\n",
       "        width: 100px;\n",
       "        height: 100px;\n",
       "        background-color: #3498DB;\n",
       "        border-radius: 50%;\n",
       "        margin-right: 20px;\n",
       "        display: flex;\n",
       "        justify-content: center;\n",
       "        align-items: center;\n",
       "        font-size: 24px;\n",
       "        font-weight: bold;\n",
       "    }\n",
       "    .character-details {\n",
       "        flex: 1;\n",
       "    }\n",
       "</style>\n",
       "\n",
       "        <div id=\"inventory-container\">\n",
       "            <div class=\"inventory-grid\">\n",
       "        <div class=\"item\" draggable=\"true\" ondragstart=\"drag(event)\" id=\"item-0\">\n",
       "            Sword\n",
       "            <span class=\"tooltip\">A sharp blade</span>\n",
       "        </div>\n",
       "        \n",
       "        <div class=\"item\" draggable=\"true\" ondragstart=\"drag(event)\" id=\"item-1\">\n",
       "            Shield\n",
       "            <span class=\"tooltip\">Sturdy protection</span>\n",
       "        </div>\n",
       "        \n",
       "        <div class=\"item\" draggable=\"true\" ondragstart=\"drag(event)\" id=\"item-2\">\n",
       "            Potion\n",
       "            <span class=\"tooltip\">Heals 50 HP</span>\n",
       "        </div>\n",
       "        \n",
       "        <div class=\"item\" draggable=\"true\" ondragstart=\"drag(event)\" id=\"item-3\">\n",
       "            Gem\n",
       "            <span class=\"tooltip\">Valuable treasure</span>\n",
       "        </div>\n",
       "        \n",
       "        <div class=\"item\" draggable=\"true\" ondragstart=\"drag(event)\" id=\"item-4\">\n",
       "            Coin\n",
       "            <span class=\"tooltip\">Currency</span>\n",
       "        </div>\n",
       "        <div class=\"item\" ondrop=\"drop(event)\" ondragover=\"allowDrop(event)\"></div><div class=\"item\" ondrop=\"drop(event)\" ondragover=\"allowDrop(event)\"></div><div class=\"item\" ondrop=\"drop(event)\" ondragover=\"allowDrop(event)\"></div><div class=\"item\" ondrop=\"drop(event)\" ondragover=\"allowDrop(event)\"></div><div class=\"item\" ondrop=\"drop(event)\" ondragover=\"allowDrop(event)\"></div></div>\n",
       "        </div>\n",
       "        "
      ],
      "text/plain": [
       "<IPython.core.display.HTML object>"
      ]
     },
     "metadata": {},
     "output_type": "display_data"
    },
    {
     "data": {
      "application/vnd.jupyter.widget-view+json": {
       "model_id": "eb168dbb439d4e7c8cdd06eb96f48283",
       "version_major": 2,
       "version_minor": 0
      },
      "text/plain": [
       "HBox(children=(Button(description='Add Random Item', style=ButtonStyle()), Button(description='Remove Last Ite…"
      ]
     },
     "metadata": {},
     "output_type": "display_data"
    },
    {
     "data": {
      "application/javascript": "\nconsole.log(\"Setting up JS functions...\");\nfunction allowDrop(ev) {\n    ev.preventDefault();\n}\n\nfunction drag(ev) {\n    console.log(\"Drag started\", ev.target.id);\n    ev.dataTransfer.setData(\"text\", ev.target.id);\n}\n\nfunction drop(ev) {\n    ev.preventDefault();\n    var data = ev.dataTransfer.getData(\"text\");\n    console.log(\"Drop event\", data);\n    if (ev.target.classList.contains('item') && !ev.target.firstChild) {\n        ev.target.appendChild(document.getElementById(data));\n    }\n}\n\nfunction updateInventory(inventoryData) {\n    console.log(\"Updating inventory in JS\", inventoryData);\n    var grid = document.querySelector('.inventory-grid');\n    grid.innerHTML = '';\n    inventoryData.forEach((item, index) => {\n        var itemDiv = document.createElement('div');\n        itemDiv.className = 'item';\n        itemDiv.draggable = true;\n        itemDiv.ondragstart = drag;\n        itemDiv.ondrop = drop;\n        itemDiv.ondragover = allowDrop;\n        itemDiv.id = 'item-' + index;\n        itemDiv.innerHTML = item.name + '<span class=\"tooltip\">' + item.description + '</span>';\n        grid.appendChild(itemDiv);\n    });\n    for (let i = inventoryData.length; i < 10; i++) {\n        var emptyDiv = document.createElement('div');\n        emptyDiv.className = 'item';\n        emptyDiv.ondrop = drop;\n        emptyDiv.ondragover = allowDrop;\n        grid.appendChild(emptyDiv);\n    }\n}\n\n// Attach event listeners to all items\ndocument.querySelectorAll('.item').forEach(item => {\n    item.ondragstart = drag;\n    item.ondrop = drop;\n    item.ondragover = allowDrop;\n});\n\n// Make sure updateInventory is available globally\nwindow.updateInventory = updateInventory;\n",
      "text/plain": [
       "<IPython.core.display.Javascript object>"
      ]
     },
     "metadata": {},
     "output_type": "display_data"
    },
    {
     "data": {
      "application/javascript": "\n        console.log(\"Updating inventory...\");\n        console.log(\"Inventory data:\", [{\"name\": \"Sword\", \"description\": \"A sharp blade\"}, {\"name\": \"Shield\", \"description\": \"Sturdy protection\"}, {\"name\": \"Potion\", \"description\": \"Heals 50 HP\"}, {\"name\": \"Gem\", \"description\": \"Valuable treasure\"}, {\"name\": \"Coin\", \"description\": \"Currency\"}]);\n        updateInventory([{\"name\": \"Sword\", \"description\": \"A sharp blade\"}, {\"name\": \"Shield\", \"description\": \"Sturdy protection\"}, {\"name\": \"Potion\", \"description\": \"Heals 50 HP\"}, {\"name\": \"Gem\", \"description\": \"Valuable treasure\"}, {\"name\": \"Coin\", \"description\": \"Currency\"}]);\n        ",
      "text/plain": [
       "<IPython.core.display.Javascript object>"
      ]
     },
     "metadata": {},
     "output_type": "display_data"
    },
    {
     "name": "stdout",
     "output_type": "stream",
     "text": [
      "Items in inventory: ['Sword', 'Shield', 'Potion', 'Gem', 'Coin']\n"
     ]
    },
    {
     "data": {
      "application/vnd.jupyter.widget-view+json": {
       "model_id": "a3079df208ec417789f0222a1c4019eb",
       "version_major": 2,
       "version_minor": 0
      },
      "text/plain": [
       "Text(value='', description='Name:')"
      ]
     },
     "metadata": {},
     "output_type": "display_data"
    },
    {
     "data": {
      "application/vnd.jupyter.widget-view+json": {
       "model_id": "d3eed90219ba4855848041acb797176e",
       "version_major": 2,
       "version_minor": 0
      },
      "text/plain": [
       "Dropdown(description='Class:', options=('Warrior', 'Mage', 'Rogue'), value='Warrior')"
      ]
     },
     "metadata": {},
     "output_type": "display_data"
    },
    {
     "data": {
      "application/vnd.jupyter.widget-view+json": {
       "model_id": "3090537295504e15a6151bd8406a48d7",
       "version_major": 2,
       "version_minor": 0
      },
      "text/plain": [
       "Button(description='Create Character', style=ButtonStyle())"
      ]
     },
     "metadata": {},
     "output_type": "display_data"
    },
    {
     "data": {
      "application/vnd.jupyter.widget-view+json": {
       "model_id": "6853e0e8197a42eba6fccc7c0e9792e2",
       "version_major": 2,
       "version_minor": 0
      },
      "text/plain": [
       "Output()"
      ]
     },
     "metadata": {},
     "output_type": "display_data"
    },
    {
     "data": {
      "application/vnd.plotly.v1+json": {
       "config": {
        "plotlyServerURL": "https://plot.ly"
       },
       "data": [
        {
         "fill": "toself",
         "r": [
          9,
          18,
          19,
          9
         ],
         "theta": [
          "Strength",
          "Intelligence",
          "Dexterity",
          "Strength"
         ],
         "type": "scatterpolar"
        }
       ],
       "layout": {
        "polar": {
         "radialaxis": {
          "range": [
           0,
           20
          ],
          "visible": true
         }
        },
        "showlegend": false,
        "template": {
         "data": {
          "bar": [
           {
            "error_x": {
             "color": "#2a3f5f"
            },
            "error_y": {
             "color": "#2a3f5f"
            },
            "marker": {
             "line": {
              "color": "#E5ECF6",
              "width": 0.5
             },
             "pattern": {
              "fillmode": "overlay",
              "size": 10,
              "solidity": 0.2
             }
            },
            "type": "bar"
           }
          ],
          "barpolar": [
           {
            "marker": {
             "line": {
              "color": "#E5ECF6",
              "width": 0.5
             },
             "pattern": {
              "fillmode": "overlay",
              "size": 10,
              "solidity": 0.2
             }
            },
            "type": "barpolar"
           }
          ],
          "carpet": [
           {
            "aaxis": {
             "endlinecolor": "#2a3f5f",
             "gridcolor": "white",
             "linecolor": "white",
             "minorgridcolor": "white",
             "startlinecolor": "#2a3f5f"
            },
            "baxis": {
             "endlinecolor": "#2a3f5f",
             "gridcolor": "white",
             "linecolor": "white",
             "minorgridcolor": "white",
             "startlinecolor": "#2a3f5f"
            },
            "type": "carpet"
           }
          ],
          "choropleth": [
           {
            "colorbar": {
             "outlinewidth": 0,
             "ticks": ""
            },
            "type": "choropleth"
           }
          ],
          "contour": [
           {
            "colorbar": {
             "outlinewidth": 0,
             "ticks": ""
            },
            "colorscale": [
             [
              0,
              "#0d0887"
             ],
             [
              0.1111111111111111,
              "#46039f"
             ],
             [
              0.2222222222222222,
              "#7201a8"
             ],
             [
              0.3333333333333333,
              "#9c179e"
             ],
             [
              0.4444444444444444,
              "#bd3786"
             ],
             [
              0.5555555555555556,
              "#d8576b"
             ],
             [
              0.6666666666666666,
              "#ed7953"
             ],
             [
              0.7777777777777778,
              "#fb9f3a"
             ],
             [
              0.8888888888888888,
              "#fdca26"
             ],
             [
              1,
              "#f0f921"
             ]
            ],
            "type": "contour"
           }
          ],
          "contourcarpet": [
           {
            "colorbar": {
             "outlinewidth": 0,
             "ticks": ""
            },
            "type": "contourcarpet"
           }
          ],
          "heatmap": [
           {
            "colorbar": {
             "outlinewidth": 0,
             "ticks": ""
            },
            "colorscale": [
             [
              0,
              "#0d0887"
             ],
             [
              0.1111111111111111,
              "#46039f"
             ],
             [
              0.2222222222222222,
              "#7201a8"
             ],
             [
              0.3333333333333333,
              "#9c179e"
             ],
             [
              0.4444444444444444,
              "#bd3786"
             ],
             [
              0.5555555555555556,
              "#d8576b"
             ],
             [
              0.6666666666666666,
              "#ed7953"
             ],
             [
              0.7777777777777778,
              "#fb9f3a"
             ],
             [
              0.8888888888888888,
              "#fdca26"
             ],
             [
              1,
              "#f0f921"
             ]
            ],
            "type": "heatmap"
           }
          ],
          "heatmapgl": [
           {
            "colorbar": {
             "outlinewidth": 0,
             "ticks": ""
            },
            "colorscale": [
             [
              0,
              "#0d0887"
             ],
             [
              0.1111111111111111,
              "#46039f"
             ],
             [
              0.2222222222222222,
              "#7201a8"
             ],
             [
              0.3333333333333333,
              "#9c179e"
             ],
             [
              0.4444444444444444,
              "#bd3786"
             ],
             [
              0.5555555555555556,
              "#d8576b"
             ],
             [
              0.6666666666666666,
              "#ed7953"
             ],
             [
              0.7777777777777778,
              "#fb9f3a"
             ],
             [
              0.8888888888888888,
              "#fdca26"
             ],
             [
              1,
              "#f0f921"
             ]
            ],
            "type": "heatmapgl"
           }
          ],
          "histogram": [
           {
            "marker": {
             "pattern": {
              "fillmode": "overlay",
              "size": 10,
              "solidity": 0.2
             }
            },
            "type": "histogram"
           }
          ],
          "histogram2d": [
           {
            "colorbar": {
             "outlinewidth": 0,
             "ticks": ""
            },
            "colorscale": [
             [
              0,
              "#0d0887"
             ],
             [
              0.1111111111111111,
              "#46039f"
             ],
             [
              0.2222222222222222,
              "#7201a8"
             ],
             [
              0.3333333333333333,
              "#9c179e"
             ],
             [
              0.4444444444444444,
              "#bd3786"
             ],
             [
              0.5555555555555556,
              "#d8576b"
             ],
             [
              0.6666666666666666,
              "#ed7953"
             ],
             [
              0.7777777777777778,
              "#fb9f3a"
             ],
             [
              0.8888888888888888,
              "#fdca26"
             ],
             [
              1,
              "#f0f921"
             ]
            ],
            "type": "histogram2d"
           }
          ],
          "histogram2dcontour": [
           {
            "colorbar": {
             "outlinewidth": 0,
             "ticks": ""
            },
            "colorscale": [
             [
              0,
              "#0d0887"
             ],
             [
              0.1111111111111111,
              "#46039f"
             ],
             [
              0.2222222222222222,
              "#7201a8"
             ],
             [
              0.3333333333333333,
              "#9c179e"
             ],
             [
              0.4444444444444444,
              "#bd3786"
             ],
             [
              0.5555555555555556,
              "#d8576b"
             ],
             [
              0.6666666666666666,
              "#ed7953"
             ],
             [
              0.7777777777777778,
              "#fb9f3a"
             ],
             [
              0.8888888888888888,
              "#fdca26"
             ],
             [
              1,
              "#f0f921"
             ]
            ],
            "type": "histogram2dcontour"
           }
          ],
          "mesh3d": [
           {
            "colorbar": {
             "outlinewidth": 0,
             "ticks": ""
            },
            "type": "mesh3d"
           }
          ],
          "parcoords": [
           {
            "line": {
             "colorbar": {
              "outlinewidth": 0,
              "ticks": ""
             }
            },
            "type": "parcoords"
           }
          ],
          "pie": [
           {
            "automargin": true,
            "type": "pie"
           }
          ],
          "scatter": [
           {
            "fillpattern": {
             "fillmode": "overlay",
             "size": 10,
             "solidity": 0.2
            },
            "type": "scatter"
           }
          ],
          "scatter3d": [
           {
            "line": {
             "colorbar": {
              "outlinewidth": 0,
              "ticks": ""
             }
            },
            "marker": {
             "colorbar": {
              "outlinewidth": 0,
              "ticks": ""
             }
            },
            "type": "scatter3d"
           }
          ],
          "scattercarpet": [
           {
            "marker": {
             "colorbar": {
              "outlinewidth": 0,
              "ticks": ""
             }
            },
            "type": "scattercarpet"
           }
          ],
          "scattergeo": [
           {
            "marker": {
             "colorbar": {
              "outlinewidth": 0,
              "ticks": ""
             }
            },
            "type": "scattergeo"
           }
          ],
          "scattergl": [
           {
            "marker": {
             "colorbar": {
              "outlinewidth": 0,
              "ticks": ""
             }
            },
            "type": "scattergl"
           }
          ],
          "scattermapbox": [
           {
            "marker": {
             "colorbar": {
              "outlinewidth": 0,
              "ticks": ""
             }
            },
            "type": "scattermapbox"
           }
          ],
          "scatterpolar": [
           {
            "marker": {
             "colorbar": {
              "outlinewidth": 0,
              "ticks": ""
             }
            },
            "type": "scatterpolar"
           }
          ],
          "scatterpolargl": [
           {
            "marker": {
             "colorbar": {
              "outlinewidth": 0,
              "ticks": ""
             }
            },
            "type": "scatterpolargl"
           }
          ],
          "scatterternary": [
           {
            "marker": {
             "colorbar": {
              "outlinewidth": 0,
              "ticks": ""
             }
            },
            "type": "scatterternary"
           }
          ],
          "surface": [
           {
            "colorbar": {
             "outlinewidth": 0,
             "ticks": ""
            },
            "colorscale": [
             [
              0,
              "#0d0887"
             ],
             [
              0.1111111111111111,
              "#46039f"
             ],
             [
              0.2222222222222222,
              "#7201a8"
             ],
             [
              0.3333333333333333,
              "#9c179e"
             ],
             [
              0.4444444444444444,
              "#bd3786"
             ],
             [
              0.5555555555555556,
              "#d8576b"
             ],
             [
              0.6666666666666666,
              "#ed7953"
             ],
             [
              0.7777777777777778,
              "#fb9f3a"
             ],
             [
              0.8888888888888888,
              "#fdca26"
             ],
             [
              1,
              "#f0f921"
             ]
            ],
            "type": "surface"
           }
          ],
          "table": [
           {
            "cells": {
             "fill": {
              "color": "#EBF0F8"
             },
             "line": {
              "color": "white"
             }
            },
            "header": {
             "fill": {
              "color": "#C8D4E3"
             },
             "line": {
              "color": "white"
             }
            },
            "type": "table"
           }
          ]
         },
         "layout": {
          "annotationdefaults": {
           "arrowcolor": "#2a3f5f",
           "arrowhead": 0,
           "arrowwidth": 1
          },
          "autotypenumbers": "strict",
          "coloraxis": {
           "colorbar": {
            "outlinewidth": 0,
            "ticks": ""
           }
          },
          "colorscale": {
           "diverging": [
            [
             0,
             "#8e0152"
            ],
            [
             0.1,
             "#c51b7d"
            ],
            [
             0.2,
             "#de77ae"
            ],
            [
             0.3,
             "#f1b6da"
            ],
            [
             0.4,
             "#fde0ef"
            ],
            [
             0.5,
             "#f7f7f7"
            ],
            [
             0.6,
             "#e6f5d0"
            ],
            [
             0.7,
             "#b8e186"
            ],
            [
             0.8,
             "#7fbc41"
            ],
            [
             0.9,
             "#4d9221"
            ],
            [
             1,
             "#276419"
            ]
           ],
           "sequential": [
            [
             0,
             "#0d0887"
            ],
            [
             0.1111111111111111,
             "#46039f"
            ],
            [
             0.2222222222222222,
             "#7201a8"
            ],
            [
             0.3333333333333333,
             "#9c179e"
            ],
            [
             0.4444444444444444,
             "#bd3786"
            ],
            [
             0.5555555555555556,
             "#d8576b"
            ],
            [
             0.6666666666666666,
             "#ed7953"
            ],
            [
             0.7777777777777778,
             "#fb9f3a"
            ],
            [
             0.8888888888888888,
             "#fdca26"
            ],
            [
             1,
             "#f0f921"
            ]
           ],
           "sequentialminus": [
            [
             0,
             "#0d0887"
            ],
            [
             0.1111111111111111,
             "#46039f"
            ],
            [
             0.2222222222222222,
             "#7201a8"
            ],
            [
             0.3333333333333333,
             "#9c179e"
            ],
            [
             0.4444444444444444,
             "#bd3786"
            ],
            [
             0.5555555555555556,
             "#d8576b"
            ],
            [
             0.6666666666666666,
             "#ed7953"
            ],
            [
             0.7777777777777778,
             "#fb9f3a"
            ],
            [
             0.8888888888888888,
             "#fdca26"
            ],
            [
             1,
             "#f0f921"
            ]
           ]
          },
          "colorway": [
           "#636efa",
           "#EF553B",
           "#00cc96",
           "#ab63fa",
           "#FFA15A",
           "#19d3f3",
           "#FF6692",
           "#B6E880",
           "#FF97FF",
           "#FECB52"
          ],
          "font": {
           "color": "#2a3f5f"
          },
          "geo": {
           "bgcolor": "white",
           "lakecolor": "white",
           "landcolor": "#E5ECF6",
           "showlakes": true,
           "showland": true,
           "subunitcolor": "white"
          },
          "hoverlabel": {
           "align": "left"
          },
          "hovermode": "closest",
          "mapbox": {
           "style": "light"
          },
          "paper_bgcolor": "white",
          "plot_bgcolor": "#E5ECF6",
          "polar": {
           "angularaxis": {
            "gridcolor": "white",
            "linecolor": "white",
            "ticks": ""
           },
           "bgcolor": "#E5ECF6",
           "radialaxis": {
            "gridcolor": "white",
            "linecolor": "white",
            "ticks": ""
           }
          },
          "scene": {
           "xaxis": {
            "backgroundcolor": "#E5ECF6",
            "gridcolor": "white",
            "gridwidth": 2,
            "linecolor": "white",
            "showbackground": true,
            "ticks": "",
            "zerolinecolor": "white"
           },
           "yaxis": {
            "backgroundcolor": "#E5ECF6",
            "gridcolor": "white",
            "gridwidth": 2,
            "linecolor": "white",
            "showbackground": true,
            "ticks": "",
            "zerolinecolor": "white"
           },
           "zaxis": {
            "backgroundcolor": "#E5ECF6",
            "gridcolor": "white",
            "gridwidth": 2,
            "linecolor": "white",
            "showbackground": true,
            "ticks": "",
            "zerolinecolor": "white"
           }
          },
          "shapedefaults": {
           "line": {
            "color": "#2a3f5f"
           }
          },
          "ternary": {
           "aaxis": {
            "gridcolor": "white",
            "linecolor": "white",
            "ticks": ""
           },
           "baxis": {
            "gridcolor": "white",
            "linecolor": "white",
            "ticks": ""
           },
           "bgcolor": "#E5ECF6",
           "caxis": {
            "gridcolor": "white",
            "linecolor": "white",
            "ticks": ""
           }
          },
          "title": {
           "x": 0.05
          },
          "xaxis": {
           "automargin": true,
           "gridcolor": "white",
           "linecolor": "white",
           "ticks": "",
           "title": {
            "standoff": 15
           },
           "zerolinecolor": "white",
           "zerolinewidth": 2
          },
          "yaxis": {
           "automargin": true,
           "gridcolor": "white",
           "linecolor": "white",
           "ticks": "",
           "title": {
            "standoff": 15
           },
           "zerolinecolor": "white",
           "zerolinewidth": 2
          }
         }
        }
       }
      }
     },
     "metadata": {},
     "output_type": "display_data"
    }
   ],
   "source": [
    "import ipywidgets as widgets\n",
    "from IPython.display import display, HTML, Javascript\n",
    "import random\n",
    "import json\n",
    "import plotly.graph_objs as go\n",
    "\n",
    "COLOR_SCHEME = {\n",
    "    'background': '#2b2b2b',\n",
    "    'text': '#FFFFFF',\n",
    "    'primary': '#3498DB',\n",
    "    'secondary': '#E74C3C',\n",
    "    'accent': '#2ECC71',\n",
    "    'hover': '#9b9b9b',\n",
    "}\n",
    "\n",
    "styles = f\"\"\"\n",
    "<style>\n",
    "    #inventory-container {{\n",
    "        width: 100%;\n",
    "        max-width: 600px;\n",
    "        margin: 0 auto;\n",
    "    }}\n",
    "    .inventory-grid {{\n",
    "        display: grid;\n",
    "        grid-template-columns: repeat(5, 1fr);\n",
    "        gap: 10px;\n",
    "        padding: 20px;\n",
    "        background-color: {COLOR_SCHEME['background']};\n",
    "    }}\n",
    "    .item {{\n",
    "        width: 60px;\n",
    "        height: 60px;\n",
    "        background-color: {COLOR_SCHEME['primary']};\n",
    "        border: 2px solid {COLOR_SCHEME['accent']};\n",
    "        display: flex;\n",
    "        justify-content: center;\n",
    "        align-items: center;\n",
    "        font-weight: bold;\n",
    "        color: {COLOR_SCHEME['text']};\n",
    "        cursor: move;\n",
    "        position: relative;\n",
    "    }}\n",
    "    .item:hover {{\n",
    "        background-color: {COLOR_SCHEME['hover']};\n",
    "    }}\n",
    "    .tooltip {{\n",
    "        visibility: hidden;\n",
    "        width: 120px;\n",
    "        background-color: {COLOR_SCHEME['secondary']};\n",
    "        color: {COLOR_SCHEME['text']};\n",
    "        text-align: center;\n",
    "        border-radius: 6px;\n",
    "        padding: 5px;\n",
    "        position: absolute;\n",
    "        z-index: 1;\n",
    "        bottom: 125%;\n",
    "        left: 50%;\n",
    "        margin-left: -60px;\n",
    "        opacity: 0;\n",
    "        transition: opacity 0.3s;\n",
    "    }}\n",
    "    .item:hover .tooltip {{\n",
    "        visibility: visible;\n",
    "        opacity: 1;\n",
    "    }}\n",
    "    .control-panel {{\n",
    "        margin-top: 20px;\n",
    "        display: flex;\n",
    "        justify-content: space-around;\n",
    "    }}\n",
    "    .character-stats {{\n",
    "        display: flex;\n",
    "        align-items: center;\n",
    "        margin-top: 20px;\n",
    "        background-color: {COLOR_SCHEME['background']};\n",
    "        padding: 20px;\n",
    "        border-radius: 8px;\n",
    "        color: {COLOR_SCHEME['text']};\n",
    "    }}\n",
    "    .character-image {{\n",
    "        width: 100px;\n",
    "        height: 100px;\n",
    "        background-color: {COLOR_SCHEME['primary']};\n",
    "        border-radius: 50%;\n",
    "        margin-right: 20px;\n",
    "        display: flex;\n",
    "        justify-content: center;\n",
    "        align-items: center;\n",
    "        font-size: 24px;\n",
    "        font-weight: bold;\n",
    "    }}\n",
    "    .character-details {{\n",
    "        flex: 1;\n",
    "    }}\n",
    "</style>\n",
    "\"\"\"\n",
    "\n",
    "class Item:\n",
    "    def __init__(self, name, description):\n",
    "        self.name = name\n",
    "        self.description = description\n",
    "\n",
    "class RPGInventory:\n",
    "    def __init__(self):\n",
    "        self.items = [\n",
    "            Item(\"Sword\", \"A sharp blade\"),\n",
    "            Item(\"Shield\", \"Sturdy protection\"),\n",
    "            Item(\"Potion\", \"Heals 50 HP\"),\n",
    "            Item(\"Gem\", \"Valuable treasure\"),\n",
    "            Item(\"Coin\", \"Currency\")\n",
    "        ]\n",
    "        self.max_items = 10\n",
    "\n",
    "    def add_item(self, item):\n",
    "        if len(self.items) < self.max_items:\n",
    "            self.items.append(item)\n",
    "            return True\n",
    "        return False\n",
    "\n",
    "    def remove_item(self, index):\n",
    "        if 0 <= index < len(self.items):\n",
    "            del self.items[index]\n",
    "            return True\n",
    "        return False\n",
    "\n",
    "    def create_item_html(self, item, index):\n",
    "        return f\"\"\"\n",
    "        <div class=\"item\" draggable=\"true\" ondragstart=\"drag(event)\" id=\"item-{index}\">\n",
    "            {item.name}\n",
    "            <span class=\"tooltip\">{item.description}</span>\n",
    "        </div>\n",
    "        \"\"\"\n",
    "\n",
    "    def create_inventory_grid(self):\n",
    "        grid = '<div class=\"inventory-grid\">'\n",
    "        for i, item in enumerate(self.items):\n",
    "            grid += self.create_item_html(item, i)\n",
    "        for _ in range(len(self.items), self.max_items):\n",
    "            grid += '<div class=\"item\" ondrop=\"drop(event)\" ondragover=\"allowDrop(event)\"></div>'\n",
    "        grid += '</div>'\n",
    "        return grid\n",
    "\n",
    "    def display_inventory(self):\n",
    "        inventory_html = f\"\"\"\n",
    "        {styles}\n",
    "        <div id=\"inventory-container\">\n",
    "            {self.create_inventory_grid()}\n",
    "        </div>\n",
    "        \"\"\"\n",
    "        display(HTML(inventory_html))\n",
    "        \n",
    "        add_button = widgets.Button(description=\"Add Random Item\")\n",
    "        remove_button = widgets.Button(description=\"Remove Last Item\")\n",
    "        \n",
    "        add_button.on_click(self.add_random_item)\n",
    "        remove_button.on_click(self.remove_last_item)\n",
    "        \n",
    "        display(widgets.HBox([add_button, remove_button]))\n",
    "\n",
    "    def add_random_item(self, _):\n",
    "        new_item = Item(f\"Item {len(self.items) + 1}\", f\"Description for Item {len(self.items) + 1}\")\n",
    "        if self.add_item(new_item):\n",
    "            self.update_inventory()\n",
    "\n",
    "    def remove_last_item(self, _):\n",
    "        if self.remove_item(len(self.items) - 1):\n",
    "            self.update_inventory()\n",
    "\n",
    "    def update_inventory(self):\n",
    "        inventory_data = json.dumps([{'name': item.name, 'description': item.description} for item in self.items])\n",
    "        js_code = f\"\"\"\n",
    "        console.log(\"Updating inventory...\");\n",
    "        console.log(\"Inventory data:\", {inventory_data});\n",
    "        updateInventory({inventory_data});\n",
    "        \"\"\"\n",
    "        display(Javascript(js_code))\n",
    "\n",
    "# New Character System\n",
    "class Character:\n",
    "    def __init__(self, name, char_class, level=1):\n",
    "        self.name = name\n",
    "        self.char_class = char_class\n",
    "        self.level = level\n",
    "        self.strength = random.randint(1, 20)\n",
    "        self.intelligence = random.randint(1, 20)\n",
    "        self.dexterity = random.randint(1, 20)\n",
    "\n",
    "    def to_dict(self):\n",
    "        return {\n",
    "            'name': self.name,\n",
    "            'class': self.char_class,\n",
    "            'level': self.level,\n",
    "            'strength': self.strength,\n",
    "            'intelligence': self.intelligence,\n",
    "            'dexterity': self.dexterity\n",
    "        }\n",
    "\n",
    "class CharacterCreator:\n",
    "    def __init__(self):\n",
    "        self.name_input = widgets.Text(description='Name:')\n",
    "        self.class_dropdown = widgets.Dropdown(\n",
    "            options=['Warrior', 'Mage', 'Rogue'],\n",
    "            description='Class:'\n",
    "        )\n",
    "        self.create_button = widgets.Button(description='Create Character')\n",
    "        self.create_button.on_click(self.create_character)\n",
    "        self.output = widgets.Output()\n",
    "\n",
    "    def display(self):\n",
    "        display(self.name_input, self.class_dropdown, self.create_button, self.output)\n",
    "\n",
    "    def create_character(self, _):\n",
    "        with self.output:\n",
    "            self.output.clear_output()\n",
    "            name = self.name_input.value\n",
    "            char_class = self.class_dropdown.value\n",
    "            character = Character(name, char_class)\n",
    "            print(f\"Character created: {character.name} the {character.char_class}\")\n",
    "            self.display_character_stats(character)\n",
    "\n",
    "    def display_character_stats(self, character):\n",
    "        stats = ['Strength', 'Intelligence', 'Dexterity']\n",
    "        values = [character.strength, character.intelligence, character.dexterity]\n",
    "\n",
    "        fig = go.Figure(data=go.Scatterpolar(\n",
    "            r=values + values[:1],\n",
    "            theta=stats + stats[:1],\n",
    "            fill='toself'\n",
    "        ))\n",
    "\n",
    "        fig.update_layout(\n",
    "            polar=dict(\n",
    "                radialaxis=dict(visible=True, range=[0, 20])\n",
    "            ),\n",
    "            showlegend=False\n",
    "        )\n",
    "\n",
    "        character_html = f\"\"\"\n",
    "        {styles}\n",
    "        <div class=\"character-stats\">\n",
    "            <div class=\"character-image\">?</div>\n",
    "            <div class=\"character-details\">\n",
    "                <h3>{character.name} the {character.char_class}</h3>\n",
    "                <div id=\"plotly-figure\"></div>\n",
    "            </div>\n",
    "        </div>\n",
    "        \"\"\"\n",
    "\n",
    "        display(HTML(character_html))\n",
    "        fig.show()\n",
    "\n",
    "# Create the game instance\n",
    "game = RPGInventory()\n",
    "\n",
    "# Display the inventory\n",
    "game.display_inventory()\n",
    "\n",
    "# Set up JavaScript functions\n",
    "js_code = \"\"\"\n",
    "console.log(\"Setting up JS functions...\");\n",
    "function allowDrop(ev) {\n",
    "    ev.preventDefault();\n",
    "}\n",
    "\n",
    "function drag(ev) {\n",
    "    console.log(\"Drag started\", ev.target.id);\n",
    "    ev.dataTransfer.setData(\"text\", ev.target.id);\n",
    "}\n",
    "\n",
    "function drop(ev) {\n",
    "    ev.preventDefault();\n",
    "    var data = ev.dataTransfer.getData(\"text\");\n",
    "    console.log(\"Drop event\", data);\n",
    "    if (ev.target.classList.contains('item') && !ev.target.firstChild) {\n",
    "        ev.target.appendChild(document.getElementById(data));\n",
    "    }\n",
    "}\n",
    "\n",
    "function updateInventory(inventoryData) {\n",
    "    console.log(\"Updating inventory in JS\", inventoryData);\n",
    "    var grid = document.querySelector('.inventory-grid');\n",
    "    grid.innerHTML = '';\n",
    "    inventoryData.forEach((item, index) => {\n",
    "        var itemDiv = document.createElement('div');\n",
    "        itemDiv.className = 'item';\n",
    "        itemDiv.draggable = true;\n",
    "        itemDiv.ondragstart = drag;\n",
    "        itemDiv.ondrop = drop;\n",
    "        itemDiv.ondragover = allowDrop;\n",
    "        itemDiv.id = 'item-' + index;\n",
    "        itemDiv.innerHTML = item.name + '<span class=\"tooltip\">' + item.description + '</span>';\n",
    "        grid.appendChild(itemDiv);\n",
    "    });\n",
    "    for (let i = inventoryData.length; i < 10; i++) {\n",
    "        var emptyDiv = document.createElement('div');\n",
    "        emptyDiv.className = 'item';\n",
    "        emptyDiv.ondrop = drop;\n",
    "        emptyDiv.ondragover = allowDrop;\n",
    "        grid.appendChild(emptyDiv);\n",
    "    }\n",
    "}\n",
    "\n",
    "// Attach event listeners to all items\n",
    "document.querySelectorAll('.item').forEach(item => {\n",
    "    item.ondragstart = drag;\n",
    "    item.ondrop = drop;\n",
    "    item.ondragover = allowDrop;\n",
    "});\n",
    "\n",
    "// Make sure updateInventory is available globally\n",
    "window.updateInventory = updateInventory;\n",
    "\"\"\"\n",
    "\n",
    "display(Javascript(js_code))\n",
    "\n",
    "# Initial inventory update to ensure everything is set up\n",
    "game.update_inventory()\n",
    "\n",
    "print(\"Items in inventory:\", [item.name for item in game.items])\n",
    "\n",
    "# Create and display the character creator\n",
    "creator = CharacterCreator()\n",
    "creator.display()\n"
   ]
  },
  {
   "cell_type": "code",
   "execution_count": null,
   "metadata": {},
   "outputs": [],
   "source": []
  }
 ],
 "metadata": {
  "kernelspec": {
   "display_name": "cerebro",
   "language": "python",
   "name": "python3"
  },
  "language_info": {
   "codemirror_mode": {
    "name": "ipython",
    "version": 3
   },
   "file_extension": ".py",
   "mimetype": "text/x-python",
   "name": "python",
   "nbconvert_exporter": "python",
   "pygments_lexer": "ipython3",
   "version": "3.12.0"
  }
 },
 "nbformat": 4,
 "nbformat_minor": 2
}
